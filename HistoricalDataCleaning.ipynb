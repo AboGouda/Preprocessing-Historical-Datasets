{
  "nbformat": 4,
  "nbformat_minor": 0,
  "metadata": {
    "colab": {
      "provenance": []
    },
    "kernelspec": {
      "name": "python3",
      "display_name": "Python 3"
    },
    "language_info": {
      "name": "python"
    }
  },
  "cells": [
    {
      "cell_type": "markdown",
      "source": [
        "#  Install Needed Libraries"
      ],
      "metadata": {
        "id": "EPWhyd9YgRXr"
      }
    },
    {
      "cell_type": "code",
      "source": [
        "!pip install ydata-profiling"
      ],
      "metadata": {
        "id": "DtD7i-qo5Hht",
        "collapsed": true
      },
      "execution_count": null,
      "outputs": []
    },
    {
      "cell_type": "markdown",
      "source": [
        "#Import Needed Libraries"
      ],
      "metadata": {
        "id": "CXiPrRHwgquL"
      }
    },
    {
      "cell_type": "code",
      "execution_count": null,
      "metadata": {
        "id": "6dipgbrgm4u4"
      },
      "outputs": [],
      "source": [
        "import pandas as pd\n",
        "import numpy as np\n",
        "import seaborn as sns\n",
        "from ydata_profiling import ProfileReport"
      ]
    },
    {
      "cell_type": "markdown",
      "source": [
        "#  Exploratory Data Analysis (EDA)"
      ],
      "metadata": {
        "id": "tSpTiFRmA-DY"
      }
    },
    {
      "cell_type": "code",
      "source": [
        "# Reading the dataset\n",
        "file_1=pd.read_csv('dataset1.csv')\n",
        "df_1=file_1.copy()\n",
        "file_2=pd.read_csv('dataset2.csv')\n",
        "df_2=file_2.copy()\n"
      ],
      "metadata": {
        "id": "rQdnuV--dUht"
      },
      "execution_count": null,
      "outputs": []
    },
    {
      "cell_type": "code",
      "source": [
        "# Display the first few rows of the dataset\n",
        "print(df_1.head())\n",
        "print(\"      -----------------------------------------------------------------  \")\n",
        "print(df_2.head())\n"
      ],
      "metadata": {
        "id": "s1Vn07bXk1FS"
      },
      "execution_count": null,
      "outputs": []
    },
    {
      "cell_type": "code",
      "source": [
        "# Display basic information about the dataset\n",
        "df_1.info()\n",
        "df_2.info()"
      ],
      "metadata": {
        "id": "WJ621I4ZmiqS"
      },
      "execution_count": null,
      "outputs": []
    },
    {
      "cell_type": "code",
      "source": [
        "#unique values in each cloumn\n",
        "print(\"         dataset_1\")\n",
        "print(df_1.nunique())\n",
        "print(\"-------------------------------\")\n",
        "print(\"         dataset_2\")\n",
        "print(df_2.nunique())"
      ],
      "metadata": {
        "id": "KGKXy188nw-K"
      },
      "execution_count": null,
      "outputs": []
    },
    {
      "cell_type": "code",
      "source": [
        "print(\"         dataset_1\")\n",
        "print(df_1.isnull().sum())\n",
        "print(\"-------------------------------\")\n",
        "print(\"         dataset_2\")\n",
        "print(df_2.isnull().sum())"
      ],
      "metadata": {
        "id": "ddIPiTWumyk6"
      },
      "execution_count": null,
      "outputs": []
    },
    {
      "cell_type": "code",
      "source": [
        "print(\"dataset_1 unique gender \",df_1['Gender'].unique())\n",
        "print(\"dataset_2 unique gender\",df_2['Gender'].unique())\n"
      ],
      "metadata": {
        "id": "qPVjgBtXvdUf"
      },
      "execution_count": null,
      "outputs": []
    },
    {
      "cell_type": "code",
      "source": [
        "df_2['Country'].nunique()"
      ],
      "metadata": {
        "id": "phB2LgUpwp_M"
      },
      "execution_count": null,
      "outputs": []
    },
    {
      "cell_type": "code",
      "source": [
        "df_1['Occupation'].value_counts()"
      ],
      "metadata": {
        "id": "fJRkSzRO3Wj9"
      },
      "execution_count": null,
      "outputs": []
    },
    {
      "cell_type": "markdown",
      "source": [
        "#DataProfiling\n"
      ],
      "metadata": {
        "id": "4YX5WVcysJ2n"
      }
    },
    {
      "cell_type": "code",
      "source": [
        "profile_dataset_1 = ProfileReport(df_1)"
      ],
      "metadata": {
        "id": "9JFdVtLs6DaI"
      },
      "execution_count": null,
      "outputs": []
    },
    {
      "cell_type": "code",
      "source": [
        "profile_dataset_1"
      ],
      "metadata": {
        "id": "N-lqJvpD6EFI",
        "collapsed": true
      },
      "execution_count": null,
      "outputs": []
    },
    {
      "cell_type": "code",
      "source": [
        "profile_dataset_2 = ProfileReport(df_2)"
      ],
      "metadata": {
        "id": "FRn302YT6D91"
      },
      "execution_count": null,
      "outputs": []
    },
    {
      "cell_type": "code",
      "source": [
        "profile_dataset_2"
      ],
      "metadata": {
        "id": "VFXuFbhtEF3_",
        "collapsed": true
      },
      "execution_count": null,
      "outputs": []
    },
    {
      "cell_type": "markdown",
      "source": [
        "#Data Cleaning\n"
      ],
      "metadata": {
        "id": "d1vIVhA0sVPV"
      }
    },
    {
      "cell_type": "code",
      "source": [
        "short=df_1['Short description'].unique()\n",
        "list(short)"
      ],
      "metadata": {
        "collapsed": true,
        "id": "_j_yrUpO-dls"
      },
      "execution_count": null,
      "outputs": []
    },
    {
      "cell_type": "code",
      "source": [
        "# Create a dictionary of all possible values in the dataset and replace them with official country names.\n",
        "country_mapping = {\n",
        "    \"Czechoslovakia\": \"Czech Republic\",\n",
        "    \"nan\": None,\n",
        "    \"Spain\": \"Spain\",\n",
        "    \"Germany\": \"Germany\",\n",
        "    \"United States of America\": \"United States\",\n",
        "    \"Russia\": \"Russia\",\n",
        "    \"Canada\": \"Canada\",\n",
        "    \"Russian Empire\": \"Russia\",\n",
        "    \"Switzerland\": \"Switzerland\",\n",
        "    \"Norway\": \"Norway\",\n",
        "    \"Kingdom of the Netherlands\": \"Netherlands\",\n",
        "    \"Austria-Hungary\": \"Austria\",\n",
        "    \"Egypt\": \"Egypt\",\n",
        "    \"France\": \"France\",\n",
        "    \"United Kingdom\": \"United Kingdom\",\n",
        "    \"Belgium\": \"Belgium\",\n",
        "    \"Argentina\": \"Argentina\",\n",
        "    \"Kingdom of Great Britain\": \"United Kingdom\",\n",
        "    \"Australia\": \"Australia\",\n",
        "    \"Poland\": \"Poland\",\n",
        "    \"Sweden\": \"Sweden\",\n",
        "    \"Soviet Union\": \"Russia\",\n",
        "    \"Bulgaria\": \"Bulgaria\",\n",
        "    \"Japan\": \"Japan\",\n",
        "    \"Wales\": \"United Kingdom\",\n",
        "    \"United Kingdom of Great Britain and Ireland\": \"United Kingdom\",\n",
        "    \"Luxembourg\": \"Luxembourg\",\n",
        "    \"Austria\": \"Austria\",\n",
        "    \"Estonia\": \"Estonia\",\n",
        "    \"Brazil\": \"Brazil\",\n",
        "    \"Finland\": \"Finland\",\n",
        "    \"Kingdom of England\": \"United Kingdom\",\n",
        "    \"Latvia\": \"Latvia\",\n",
        "    \"Kingdom of Italy\": \"Italy\",\n",
        "    \"India\": \"India\",\n",
        "    \"New Zealand\": \"New Zealand\",\n",
        "    \"Czech Republic\": \"Czech Republic\",\n",
        "    \"Belarus\": \"Belarus\",\n",
        "    \"Chile\": \"Chile\",\n",
        "    \"Pakistan\": \"Pakistan\",\n",
        "    \"Polish–Lithuanian Commonwealth\": \"Poland\",\n",
        "    \"Denmark\": \"Denmark\",\n",
        "    \"Scotland\": \"United Kingdom\",\n",
        "    \"Hungary\": \"Hungary\",\n",
        "    \"German Empire\": \"Germany\",\n",
        "    \"Mexico\": \"Mexico\",\n",
        "    \"Republic of Geneva\": \"Switzerland\",\n",
        "    \"Italy\": \"Italy\",\n",
        "    \"Netherlands\": \"Netherlands\",\n",
        "    \"Republic of China (1912–1949)\": \"China\",\n",
        "    \"Kingdom of Bavaria\": \"Germany\",\n",
        "    \"Cossack Hetmanate\": \"Ukraine\",\n",
        "    \"Nigeria\": \"Nigeria\",\n",
        "    \"Papal States\": \"Vatican City\",\n",
        "    \"England\": \"United Kingdom\",\n",
        "    \"Ireland\": \"Ireland\",\n",
        "    \"Yugoslavia\": \"Serbia\",\n",
        "    \"Costa Rica\": \"Costa Rica\",\n",
        "    \"South Korea\": \"South Korea\",\n",
        "    \"South Africa\": \"South Africa\",\n",
        "    \"Electorate of Saxony\": \"Germany\",\n",
        "    \"Portugal\": \"Portugal\",\n",
        "    \"Romania\": \"Romania\",\n",
        "    \"Israel\": \"Israel\",\n",
        "    \"Sri Lanka\": \"Sri Lanka\",\n",
        "    \"Uruguay\": \"Uruguay\",\n",
        "    \"Holy Roman Empire\": \"Germany\",\n",
        "    \"People's Republic of China\": \"China\",\n",
        "    \"Ghana\": \"Ghana\",\n",
        "    \"Kingdom of Castile\": \"Spain\",\n",
        "    \"ancient Rome\": \"Italy\",\n",
        "    \"German Democratic Republic\": \"Germany\",\n",
        "    \"Paraguay\": \"Paraguay\",\n",
        "    \"Belize\": \"Belize\",\n",
        "    \"Turkey\": \"Turkey\",\n",
        "    \"Tsardom of Russia\": \"Russia\",\n",
        "    \"Peru\": \"Peru\",\n",
        "    \"Serbia\": \"Serbia\",\n",
        "    \"Ottoman Empire\": \"Turkey\",\n",
        "    \"Colombia\": \"Colombia\",\n",
        "    \"Philippines\": \"Philippines\",\n",
        "    \"Socialist Federal Republic of Yugoslavia\": \"Serbia\",\n",
        "    \"Puerto Rico\": \"United States\",\n",
        "    \"Byzantine Empire\": \"Turkey\",\n",
        "    \"Republic of Venice\": \"Italy\",\n",
        "    \"Malta\": \"Malta\",\n",
        "    \"Kingdom of Sardinia\": \"Italy\",\n",
        "    \"Ecuador\": \"Ecuador\",\n",
        "    \"Croatia\": \"Croatia\",\n",
        "    \"Kingdom of Württemberg\": \"Germany\",\n",
        "    \"Cuba\": \"Cuba\",\n",
        "    \"Dutch Republic\": \"Netherlands\",\n",
        "    \"Kingdom of Scotland\": \"United Kingdom\",\n",
        "    \"Lithuania\": \"Lithuania\",\n",
        "    \"Tunisia\": \"Tunisia\",\n",
        "    \"Eastern Han Dynasty\": \"China\",\n",
        "    \"Greece\": \"Greece\",\n",
        "    \"Montenegro\": \"Montenegro\",\n",
        "    \"Austrian Empire\": \"Austria\",\n",
        "    \"German Reich\": \"Germany\",\n",
        "    \"Malaysia\": \"Malaysia\",\n",
        "    \"Venezuela\": \"Venezuela\",\n",
        "    \"Taiwan\": \"Taiwan\",\n",
        "    \"Jamaica\": \"Jamaica\",\n",
        "    \"Kingdom of Hungary\": \"Hungary\",\n",
        "    \"Slovakia\": \"Slovakia\",\n",
        "    \"Tanzania\": \"Tanzania\",\n",
        "    \"Republic of Genova\": \"Italy\",\n",
        "    \"China\": \"China\",\n",
        "    \"Grenada\": \"Grenada\",\n",
        "    \"Republic of Cyprus\": \"Cyprus\",\n",
        "    \"Iran\": \"Iran\",\n",
        "    \"Russian Soviet Federative Socialist Republic\": \"Russia\",\n",
        "    \"Trinidad and Tobago\": \"Trinidad and Tobago\",\n",
        "    \"Kyrgyzstan\": \"Kyrgyzstan\",\n",
        "    \"Panama\": \"Panama\",\n",
        "    \"Nauru\": \"Nauru\",\n",
        "    \"Nazi Germany\": \"Germany\",\n",
        "    \"Bolivia\": \"Bolivia\",\n",
        "    \"North Korea\": \"North Korea\",\n",
        "    \"Kingdom of Prussia\": \"Germany\",\n",
        "    \"Afghanistan\": \"Afghanistan\",\n",
        "    \"Spanish Empire\": \"Spain\",\n",
        "    \"Sui dynasty\": \"China\",\n",
        "    \"Joseon\": \"South Korea\",\n",
        "    \"Angola\": \"Angola\",\n",
        "    \"Indonesia\": \"Indonesia\",\n",
        "    \"Algeria\": \"Algeria\",\n",
        "    \"Crown of Aragón\": \"Spain\",\n",
        "    \"Crown of Castile\": \"Spain\",\n",
        "    \"Haiti\": \"Haiti\",\n",
        "    \"Later Liang dynasty\": \"China\",\n",
        "    \"Abbasid Caliphate\": \"Iraq\",\n",
        "    \"Slovenia\": \"Slovenia\",\n",
        "    \"Viceroyalty of New Spain\": \"Mexico\",\n",
        "    \"Kingdom of Aragon\": \"Spain\",\n",
        "    \"Archduchy of Austria\": \"Austria\",\n",
        "    \"Duchy of Prussia\": \"Germany\",\n",
        "    \"Prussia\": \"Germany\",\n",
        "    \"Ukraine\": \"Ukraine\",\n",
        "    \"Colony of New South Wales\": \"Australia\",\n",
        "    \"Morocco\": \"Morocco\",\n",
        "    \"Ming dynasty\": \"China\",\n",
        "    \"Chechen Republic\": \"Russia\",\n",
        "    \"British people\": \"United Kingdom\",\n",
        "    \"Kingdom of Navarre\": \"Spain\",\n",
        "    \"Lebanon\": \"Lebanon\",\n",
        "    \"Vanuatu\": \"Vanuatu\",\n",
        "    \"Umayyad Caliphate\": \"Spain\",\n",
        "    \"Habsburg Netherlands\": \"Netherlands\",\n",
        "    \"Duchy of Savoy\": \"Italy\",\n",
        "    \"Song dynasty\": \"China\",\n",
        "    \"El Salvador\": \"El Salvador\",\n",
        "    \"Principality of Wallachia\": \"Romania\",\n",
        "    \"Indians\": \"India\",\n",
        "    \"Saxe-Weimar-Eisenach\": \"Germany\",\n",
        "    \"Albania\": \"Albania\",\n",
        "    \"Myanmar\": \"Myanmar\",\n",
        "    \"Mozambique\": \"Mozambique\",\n",
        "    \"Low Countries\": \"Netherlands\",\n",
        "    \"Qing dynasty\": \"China\",\n",
        "    \"Guatemala\": \"Guatemala\",\n",
        "    \"Saar\": \"Germany\",\n",
        "    \"Southern Netherlands\": \"Belgium\",\n",
        "    \"Equatorial Guinea\": \"Equatorial Guinea\",\n",
        "    \"Weimar Republic\": \"Germany\",\n",
        "    \"Grand Duchy of Finland\": \"Finland\",\n",
        "    \"Jordan\": \"Jordan\",\n",
        "    \"Iceland\": \"Iceland\",\n",
        "    \"Nicaragua\": \"Nicaragua\",\n",
        "    \"Irish Free State\": \"Ireland\",\n",
        "    \"Eswatini\": \"Eswatini\",\n",
        "    \"Madagascar\": \"Madagascar\",\n",
        "    \"Republic of Lucca\": \"Italy\",\n",
        "    \"Grand Duchy of Tuscany\": \"Italy\",\n",
        "    \"Kosovo\": \"Kosovo\",\n",
        "    \"Dominican Republic\": \"Dominican Republic\",\n",
        "    \"British Raj\": \"India\",\n",
        "    \"Suriname\": \"Suriname\",\n",
        "    \"Kingdom of France\": \"France\",\n",
        "    \"San Marino\": \"San Marino\",\n",
        "    \"Northern Zhou\": \"China\",\n",
        "    \"Great Britain\": \"United Kingdom\",\n",
        "    \"Iraq\": \"Iraq\",\n",
        "    \"Republic of the Congo\": \"Republic of the Congo\",\n",
        "    \"Duchy of Modena and Reggio\": \"Italy\",\n",
        "    \"Democratic Republic of the Congo\": \"Democratic Republic of the Congo\",\n",
        "    \"People's Republic of Poland\": \"Poland\",\n",
        "    \"Liechtenstein\": \"Liechtenstein\",\n",
        "    \"Burkina Faso\": \"Burkina Faso\",\n",
        "    \"Uganda\": \"Uganda\",\n",
        "    \"Sierra Leone\": \"Sierra Leone\",\n",
        "    \"Brazilians\": \"Brazil\",\n",
        "    \"Zimbabwe\": \"Zimbabwe\",\n",
        "    \"Saint Kitts and Nevis\": \"Saint Kitts and Nevis\",\n",
        "    \"Electorate of Hesse\": \"Germany\",\n",
        "    \"Cape Verde\": \"Cape Verde\",\n",
        "    \"São Tomé and Príncipe\": \"São Tomé and Príncipe\",\n",
        "    \"British Hong Kong\": \"China\",\n",
        "    \"Hong Kong\": \"China\",\n",
        "    \"State of Palestine\": \"Palestine\",\n",
        "    \"Provinces of India\": \"India\",\n",
        "    \"Armenia\": \"Armenia\",\n",
        "    \"British North America\": \"Canada\",\n",
        "    \"Honduras\": \"Honduras\",\n",
        "    \"Azerbaijan\": \"Azerbaijan\",\n",
        "    \"Kingdom of Ireland\": \"Ireland\",\n",
        "    \"Taifa of Granada\": \"Spain\",\n",
        "    \"Tang Empire\": \"China\",\n",
        "    \"Slovaks\": \"Slovakia\",\n",
        "    \"People's Republic of Hungary\": \"Hungary\",\n",
        "    \"Saudi Arabia\": \"Saudi Arabia\",\n",
        "    \"Vietnam\": \"Vietnam\",\n",
        "    \"Aztec Empire\": \"Mexico\",\n",
        "    \"Electorate of Bavaria\": \"Germany\",\n",
        "    \"Americans\": \"United States\",\n",
        "    \"Barbados\": \"Barbados\",\n",
        "    \"Kingdom of Bohemia\": \"Czech Republic\",\n",
        "    \"Antigua\": \"Antigua and Barbuda\",\n",
        "    \"Saxony\": \"Germany\",\n",
        "    \"Viceroyalty of Perú\": \"Peru\",\n",
        "    \"Habsburg Monarchy\": \"Austria\",\n",
        "    \"Mughal Empire\": \"India\",\n",
        "    \"Armenian Soviet Socialist Republic\": \"Armenia\",\n",
        "    \"Benin\": \"Benin\",\n",
        "    \"Gold Coast\": \"Ghana\",\n",
        "    \"Bahamas\": \"Bahamas\",\n",
        "    \"Byelorussian Soviet Socialist Republic\": \"Belarus\",\n",
        "    \"Americana\": \"United States\",\n",
        "    \"Northern Ireland\": \"United Kingdom\",\n",
        "    \"Province of Canada\": \"Canada\",\n",
        "    \"United Arab Emirates\": \"United Arab Emirates\",\n",
        "    \"Zazzau\": \"Nigeria\",\n",
        "    \"Georgia\": \"Georgia\",\n",
        "    \"Liberia\": \"Liberia\",\n",
        "    \"Jin dynasty\": \"China\",\n",
        "    \"crown of Galicia\": \"Spain\",\n",
        "    \"New France\": \"Canada\",\n",
        "    \"Kingdom of Poland\": \"Poland\",\n",
        "    \"Goryeo\": \"South Korea\",\n",
        "    \"Oman\": \"Oman\",\n",
        "    \"Cambodia\": \"Cambodia\",\n",
        "    \"Bosnia and Herzegovina\": \"Bosnia and Herzegovina\",\n",
        "    \"Kingdom of Saxony\": \"Germany\",\n",
        "    \"Syria\": \"Syria\",\n",
        "    \"Moldova\": \"Moldova\",\n",
        "    \"Kazakhstan\": \"Kazakhstan\",\n",
        "    \"Ivory Coast\": \"Ivory Coast\",\n",
        "    \"Irish Republic\": \"Ireland\",\n",
        "    \"Denmark-Norway\": \"Denmark\",\n",
        "    \"Sierra Leone Colony and Protectorate\": \"Sierra Leone\",\n",
        "    \"Kuwait\": \"Kuwait\",\n",
        "    \"Kingdom of Yugoslavia\": \"Serbia\",\n",
        "    \"Bermuda\": \"United Kingdom\",\n",
        "    \"Western Han Dynasty\": \"China\",\n",
        "    \"Kingdom of Naples\": \"Italy\",\n",
        "    \"Yemen\": \"Yemen\",\n",
        "    \"Togo\": \"Togo\",\n",
        "    \"Nepal\": \"Nepal\",\n",
        "    \"German Confederation\": \"Germany\",\n",
        "    \"British Empire\": \"United Kingdom\",\n",
        "    \"Kingdom of Hawaiʻi\": \"United States\",\n",
        "    \"Kingdom of Portugal\": \"Portugal\",\n",
        "    \"Kingdom of Tavolara\": \"Italy\",\n",
        "    \"Uzbekistan\": \"Uzbekistan\",\n",
        "    \"Duchy of Brabant\": \"Belgium\",\n",
        "    \"Kingdom of Georgia\": \"Georgia\",\n",
        "    \"Yuan dynasty\": \"China\",\n",
        "    \"Spanish Netherlands\": \"Belgium\",\n",
        "    \"Grand Duchy of Lithuania\": \"Lithuania\",\n",
        "    \"Central African Republic\": \"Central African Republic\",\n",
        "    \"Canada East\": \"Canada\",\n",
        "    \"Canadians\": \"Canada\",\n",
        "    \"Somalia\": \"Somalia\",\n",
        "    \"Western Xia\": \"China\",\n",
        "    \"Lordship of Bologna\": \"Italy\",\n",
        "    \"Eritrea\": \"Eritrea\",\n",
        "    \"Fiji\": \"Fiji\",\n",
        "    \"Qutb Shahi dynasty\": \"India\",\n",
        "    \"Kingdom of Asturias\": \"Spain\",\n",
        "    \"Italians\": \"Italy\",\n",
        "    \"County of Champagne\": \"France\",\n",
        "    \"Kingdom of Iraq\": \"Iraq\",\n",
        "    \"Republic of Florence\": \"Italy\",\n",
        "    \"Faroe Islands\": \"Denmark\",\n",
        "    \"Flintshire\": \"United Kingdom\",\n",
        "    \"Kingdom of Denmark\": \"Denmark\",\n",
        "    \"East Timor\": \"East Timor\",\n",
        "    \"New South Wales\": \"Australia\",\n",
        "    \"Rwanda\": \"Rwanda\",\n",
        "    \"Thebes\": \"Greece\",\n",
        "    \"Gabon\": \"Gabon\",\n",
        "    \"Jersey\": \"United Kingdom\",\n",
        "    \"Duchy of Luxembourg\": \"Luxembourg\",\n",
        "    \"Confederation of the Rhine\": \"Germany\",\n",
        "    \"Kenya\": \"Kenya\",\n",
        "    \"Ancient Egypt\": \"Egypt\",\n",
        "    \"English people\": \"United Kingdom\",\n",
        "    \"Colonial Brazil\": \"Brazil\",\n",
        "    \"North Macedonia\": \"North Macedonia\",\n",
        "    \"Southern Qi\": \"China\",\n",
        "    \"Northern Wei\": \"China\",\n",
        "    \"Guyana\": \"Guyana\",\n",
        "    \"Tuvalu\": \"Tuvalu\",\n",
        "    \"Cameroon\": \"Cameroon\",\n",
        "    \"Dominica\": \"Dominica\",\n",
        "    \"Ryukyu Kingdom\": \"Japan\",\n",
        "    \"Emirate of Granada\": \"Spain\",\n",
        "    \"Safavid dynasty\": \"Iran\",\n",
        "    \"Libya\": \"Libya\",\n",
        "    \"Bohemia\": \"Czech Republic\",\n",
        "    \"Zambia\": \"Zambia\",\n",
        "    \"Antigua and Barbuda\": \"Antigua and Barbuda\",\n",
        "    \"United States Virgin Islands\": \"United States\",\n",
        "    \"Namibia\": \"Namibia\",\n",
        "    \"Safavid Empire\": \"Iran\",\n",
        "    \"Senegal\": \"Senegal\",\n",
        "    \"Macedonia\": \"North Macedonia\",\n",
        "    \"Mali\": \"Mali\",\n",
        "    \"Mandatory Palestine\": \"Israel\",\n",
        "    \"Kyivska Rus'\": \"Ukraine\",\n",
        "    \"Española\": \"Dominican Republic\",\n",
        "    \"County of Savoy\": \"Italy\",\n",
        "    \"Kingdom of Pamplona\": \"Spain\",\n",
        "    \"Cao Wei\": \"China\",\n",
        "    \"Northern Netherlands\": \"Netherlands\",\n",
        "    \"Northern Song Dynasty\": \"China\",\n",
        "    \"Louisiana\": \"United States\",\n",
        "    \"Duchy of Württemberg\": \"Germany\",\n",
        "    \"County of Flanders\": \"Belgium\",\n",
        "    \"Former Shu\": \"China\",\n",
        "    \"Papua New Guinea\": \"Papua New Guinea\",\n",
        "    \"Cook Islands Māori people\": \"Cook Islands\",\n",
        "    \"Province of Quebec\": \"Canada\",\n",
        "    \"Kingdom of Mysore\": \"India\",\n",
        "    \"emirate of Córdoba\": \"Spain\",\n",
        "    \"Arabian Peninsula\": None,\n",
        "    \"Mauritania\": \"Mauritania\",\n",
        "    \"Gambia\": \"Gambia\",\n",
        "    \"Kingdom of Burgundy\": \"France\",\n",
        "    \"Later Han dynasty\": \"China\",\n",
        "    \"Serbian Grand Principality\": \"Serbia\",\n",
        "    \"British Guiana\": \"Guyana\",\n",
        "    \"Principality of Moldavia\": \"Moldova\",\n",
        "    \"Grand Duchy of Hesse\": \"Germany\",\n",
        "    \"Second Polish Republic\": \"Poland\",\n",
        "    \"Duchy of Parma\": \"Italy\",\n",
        "    \"Prince-Bishopric of Liège\": \"Belgium\",\n",
        "    \"Australians\": \"Australia\",\n",
        "    \"Oudh State\": \"India\",\n",
        "    \"Kingdom of Leinster\": \"Ireland\",\n",
        "    \"Sudan\": \"Sudan\",\n",
        "    \"Kingdom of the Two Sicilies\": \"Italy\",\n",
        "    \"Kingdom of Dyfed\": \"United Kingdom\",\n",
        "    \"Burundi\": \"Burundi\",\n",
        "    \"London\": \"United Kingdom\",\n",
        "    \"Niger\": \"Niger\",\n",
        "    \"Niue\": \"Niue\",\n",
        "    \"Durrani Empire\": \"Afghanistan\",\n",
        "    \"Volhynia\": \"Ukraine\",\n",
        "    \"Frankfurt\": \"Germany\",\n",
        "    \"Cape Colony\": \"South Africa\",\n",
        "    \"Transylvania\": \"Romania\",\n",
        "    \"Mauritius\": \"Mauritius\",\n",
        "    \"South Sudan\": \"South Sudan\",\n",
        "    \"French Madagascar\": \"Madagascar\",\n",
        "    \"Lower Canada\": \"Canada\",\n",
        "    \"French Second Republic\": \"France\",\n",
        "    \"Brandenburg-Prussia\": \"Germany\",\n",
        "    \"Kingdom of León\": \"Spain\",\n",
        "    \"Duchy of Bohemia\": \"Czech Republic\",\n",
        "    \"Gujarat Sultanate\": \"India\",\n",
        "    \"Kingdom of Serbia\": \"Serbia\",\n",
        "    \"Singapore\": \"Singapore\",\n",
        "    \"Province of Bologna\": \"Italy\",\n",
        "    \"Republic of Siena\": \"Italy\",\n",
        "    \"West Germany\": \"Germany\",\n",
        "    \"Nyasaland\": \"Malawi\",\n",
        "    \"Bavaria\": \"Germany\",\n",
        "    \"Kingdom of Romania\": \"Romania\",\n",
        "    \"Visigothic Spain\": \"Spain\",\n",
        "    \"Liao dynasty\": \"China\",\n",
        "    \"Electorate of Mainz\": \"Germany\",\n",
        "    \"Kingdom of Hanover\": \"Germany\",\n",
        "    \"Viceroyalty of the Río de la Plata\": \"Argentina\",\n",
        "    \"Botswana\": \"Botswana\",\n",
        "    \"Korean Empire\": \"South Korea\",\n",
        "    \"Qi\": \"China\",\n",
        "    \"Grand Duchy of Vladimir\": \"Russia\",\n",
        "    \"Chad\": \"Chad\",\n",
        "    \"Samoa\": \"Samoa\",\n",
        "    \"Sheikhdom of Kuwait\": \"Kuwait\",\n",
        "    \"Duchy of Florence\": \"Italy\",\n",
        "    \"Sultanate of Siak Sri Indrapura\": \"Indonesia\",\n",
        "    \"Seleucid Empire\": None,\n",
        "    \"Chen dynasty\": \"China\",\n",
        "    \"Duchy of Milan\": \"Italy\",\n",
        "    \"Dominion of New Zealand\": \"New Zealand\",\n",
        "    \"Great Seljuq Empire\": None,\n",
        "    \"Republic of Texas\": \"United States\",\n",
        "    \"Kingdom of Kakheti\": \"Georgia\",\n",
        "    \"Spanish Guinea\": \"Equatorial Guinea\",\n",
        "    \"Arabs\": None,\n",
        "    \"Al-Andalus\": \"Spain\",\n",
        "    \"Brunei\": \"Brunei\",\n",
        "    \"Palestine\": \"Palestine\",\n",
        "    \"Principality of Ryazan\": \"Russia\",\n",
        "    \"Flanders\": \"Belgium\",\n",
        "    \"Colony of Virginia\": \"United States\",\n",
        "    \"French First Republic\": \"France\",\n",
        "    \"Belgians\": \"Belgium\",\n",
        "    \"British America\": \"United States\",\n",
        "    \"Serbian Despotate\": \"Serbia\",\n",
        "    \"Duchy of Urbino\": \"Italy\",\n",
        "    \"Duchy of Brunswick\": \"Germany\",\n",
        "    \"Isle of Man\": \"United Kingdom\",\n",
        "    \"Kingdom of Mercia\": \"United Kingdom\",\n",
        "    \"Kingdom of Galicia\": \"Spain\",\n",
        "    \"Transnistria\": \"Moldova\",\n",
        "    \"Colony of New Zealand\": \"New Zealand\",\n",
        "    \"Union between Sweden and Norway\": \"Sweden\",\n",
        "    \"Kingdom of Galicia and Lodomeria\": \"Poland\",\n",
        "    \"Gourdon\": \"France\",\n",
        "    \"Kingdom of Sicily\": \"Italy\",\n",
        "    \"United Arab Republic\": \"Egypt\",\n",
        "    \"Kingdom of Kongo\": \"Angola\",\n",
        "    \"Kingdom of Kartli\": \"Georgia\",\n",
        "    \"Canton of Solothurn\": \"Switzerland\",\n",
        "    \"Awadh\": \"India\",\n",
        "    \"Aruba\": \"Netherlands\",\n",
        "    \"Maldives\": \"Maldives\",\n",
        "    \"Thailand\": \"Thailand\",\n",
        "    \"Qin\": \"China\",\n",
        "    \"Principality of Montenegro\": \"Montenegro\",\n",
        "    \"Cardiff\": \"United Kingdom\",\n",
        "    \"Venice\": \"Italy\",\n",
        "    \"Kingdom of Aksum\": \"Ethiopia\",\n",
        "    \"Guinea\": \"Guinea\",\n",
        "    \"Almoravid dynasty\": \"Morocco\",\n",
        "    \"Kingdom of Cyprus\": \"Cyprus\",\n",
        "    \"Mamluk Sultanate\": \"Egypt\",\n",
        "    \"Taifa of Dénia\": \"Spain\",\n",
        "    \"Greenland\": \"Denmark\",\n",
        "    \"Turkish Republic of Northern Cyprus\": \"Cyprus\",\n",
        "    \"Germans\": \"Germany\",\n",
        "    \"Kingdom of Lombardy–Venetia\": \"Italy\",\n",
        "    \"Bremen\": \"Germany\",\n",
        "    \"Grand Duchy of Oldenburg\": \"Germany\",\n",
        "    \"Carthage\": \"Tunisia\",\n",
        "    \"Burgundian Netherlands\": \"Netherlands\",\n",
        "    \"Liu Song dynasty\": \"China\",\n",
        "    \"Republic of Ragusa\": \"Croatia\",\n",
        "    \"Novgorod Republic\": \"Russia\",\n",
        "    \"Saint Lucia\": \"Saint Lucia\",\n",
        "    \"Principality of Serbia\": \"Serbia\",\n",
        "    \"State of the Teutonic Order\": \"Poland\",\n",
        "    \"Duchy of Mirandola\": \"Italy\",\n",
        "    \"fictional extraterrestrial\": None,\n",
        "    \"Seychelles\": \"Seychelles\",\n",
        "    \"Uyghur\": \"China\",\n",
        "    \"Empire of Japan\": \"Japan\",\n",
        "    \"Lakota people\": \"United States\",\n",
        "    \"Mallorquina\": \"Spain\",\n",
        "    \"Turkmenistan\": \"Turkmenistan\",\n",
        "    \"Lesotho\": \"Lesotho\",\n",
        "    \"Andorra\": \"Andorra\",\n",
        "    \"Margraviate of Baden-Durlach\": \"Germany\",\n",
        "    \"Achaemenid Empire\": \"Iran\",\n",
        "    \"Southern Song Dynasty\": \"China\",\n",
        "    \"County of Barcelona\": \"Spain\",\n",
        "    \"Kingdom of Valencia\": \"Spain\",\n",
        "    \"Taiping Heavenly Kingdom\": \"China\",\n",
        "    \"Champa\": \"Vietnam\",\n",
        "    \"Ukrainian Soviet Socialist Republic\": \"Ukraine\",\n",
        "    \"Ptolemaic Kingdom\": \"Egypt\",\n",
        "    \"Serbian Empire\": \"Serbia\",\n",
        "    \"United Principalities\": \"Romania\",\n",
        "    \"American Samoa\": \"United States\",\n",
        "    \"Kingdom of Abkhazia\": \"Georgia\",\n",
        "    \"Kiribati\": \"Kiribati\",\n",
        "    \"Captaincy General of the Philippines\": \"Philippines\",\n",
        "    \"Duchy of Bavaria\": \"Germany\",\n",
        "    \"Union of South Africa\": \"South Africa\",\n",
        "    \"Kingdom of Toledo\": \"Spain\",\n",
        "    \"Paris\": \"France\",\n",
        "    \"Grand Duchy of Mecklenburg-Schwerin\": \"Germany\",\n",
        "    \"Slovak State (1939-1945)\": \"Slovakia\",\n",
        "    \"Han dynasty\": \"China\",\n",
        "    \"Chu\": \"China\",\n",
        "    \"Austrian Netherlands\": \"Belgium\",\n",
        "    \"Austrians\": \"Austria\",\n",
        "    \"Baden\": \"Germany\",\n",
        "    \"Grand Duchy of Moscow\": \"Russia\",\n",
        "    \"Ukrainian State\": \"Ukraine\",\n",
        "    \"Later Tang Dynasty\": \"China\",\n",
        "    \"Malawi\": \"Malawi\",\n",
        "    \"Dalmatia\": \"Croatia\",\n",
        "    \"Dutch people\": \"Netherlands\",\n",
        "    \"Emirate of Afghanistan\": \"Afghanistan\",\n",
        "    \"Duchy of Lucca\": \"Italy\",\n",
        "    \"Mongolia\": \"Mongolia\",\n",
        "    \"Western Wei\": \"China\",\n",
        "    \"Grand Duchy of Baden\": \"Germany\",\n",
        "    \"Duchy of Mantua\": \"Italy\",\n",
        "    \"Electoral Palatinate\": \"Germany\",\n",
        "    \"Giudicato of Arborea\": \"Italy\",\n",
        "    \"Estados Unidos\": \"United States\",\n",
        "    \"Ethiopia\": \"Ethiopia\",\n",
        "    \"Portuguese Empire\": \"Portugal\",\n",
        "    \"Later Shu\": \"China\",\n",
        "    \"Duchy of Ferrara\": \"Italy\",\n",
        "    \"Classical Athens\": \"Greece\",\n",
        "    \"Crown of the Kingdom of Poland\": \"Poland\",\n",
        "    \"Djibouti\": \"Djibouti\",\n",
        "    \"Hyderabad State\": \"India\",\n",
        "    \"July Monarchy\": \"France\",\n",
        "    \"Saint Vincent and the Grenadines\": \"Saint Vincent and the Grenadines\",\n",
        "    \"Qajar dynasty\": \"Iran\",\n",
        "    \"Republic of Mainz\": \"Germany\",\n",
        "    \"Visigoths\": \"Spain\",\n",
        "    \"Hamburg\": \"Germany\",\n",
        "    \"Carolingian Empire\": \"France\",\n",
        "    \"Italian Social Republic\": \"Italy\",\n",
        "    \"Dutch East Indies\": \"Indonesia\",\n",
        "    \"French Third Republic\": \"France\",\n",
        "    \"Federal Republic of Central America\": \"Guatemala\",\n",
        "    \"Principality of Catalonia\": \"Spain\",\n",
        "    \"Qin dynasty\": \"China\",\n",
        "    \"Caliphate of Córdoba\": \"Spain\",\n",
        "    \"Federated States of Micronesia\": \"Federated States of Micronesia\",\n",
        "    \"Kingdom of Naples and Sicily\": \"Italy\",\n",
        "    \"French people\": \"France\",\n",
        "    \"Montserrat\": \"United Kingdom\",\n",
        "    \"Kingdom of Gwynedd\": \"United Kingdom\",\n",
        "    \"Swedish Empire\": \"Sweden\",\n",
        "    \"Sweden-Finland\": \"Sweden\",\n",
        "    \"Monaco\": \"Monaco\",\n",
        "    \"México\": \"Mexico\",\n",
        "    \"Holy See\": \"Vatican City\",\n",
        "    \"Captaincy General of Guatemala\": \"Guatemala\",\n",
        "    \"Later Yan\": \"China\",\n",
        "    \"Francia\": \"France\",\n",
        "    \"Western Sahara\": \"Western Sahara\",\n",
        "    \"history of Genoa\": \"Italy\",\n",
        "    \"Kingdom of Imereti\": \"Georgia\",\n",
        "    \"First French Empire\": \"France\",\n",
        "    \"North Vietnam\": \"Vietnam\",\n",
        "    \"Electorate of Brunswick-Lüneburg\": \"Germany\",\n",
        "    \"West Francia\": \"France\",\n",
        "    \"Welsh people\": \"United Kingdom\",\n",
        "    \"Kingdom of Majorca\": \"Spain\",\n",
        "    \"Moravian Serbia\": \"Serbia\",\n",
        "    \"Confederate States of America\": \"United States\",\n",
        "    \"Netherlands Antilles\": \"Netherlands\",\n",
        "    \"Portuguese Cape Verde\": \"Cape Verde\",\n",
        "    \"Portuguese Guinea\": \"Guinea-Bissau\",\n",
        "    \"First Bulgarian Empire\": \"Bulgaria\",\n",
        "    \"Duchy of Brittany\": \"France\",\n",
        "    \"Asia\": None,\n",
        "    \"County of Conflent\": \"Spain\",\n",
        "    \"Venezolano\": \"Venezuela\",\n",
        "    \"Kingdom of Matamba\": \"Angola\",\n",
        "    \"Kingdom of Bosnia\": \"Bosnia and Herzegovina\",\n",
        "    \"Egypt Eyalet\": \"Egypt\",\n",
        "    \"Saint-Domingue\": \"Haiti\",\n",
        "    \"Principality of Antioch\": \"Syria\",\n",
        "    \"Empire of Nicaea\": \"Turkey\",\n",
        "    \"Vatican City\": \"Vatican City\",\n",
        "    \"Frances\": \"France\",\n",
        "    \"Saxe-Gotha-Altenburg\": \"Germany\",\n",
        "    \"Tonga\": \"Tonga\",\n",
        "    \"Piedmont\": \"Italy\",\n",
        "    \"Spanish East Indies\": \"Philippines\",\n",
        "    \"Principality of Bulgaria\": \"Bulgaria\",\n",
        "    \"Cisalpine Republic\": \"Italy\",\n",
        "    \"Spanish\": \"Spain\",\n",
        "    \"Duchy of Brunswick-Lüneburg\": \"Germany\",\n",
        "    \"Wuyue\": \"China\",\n",
        "    \"Imperial State of Iran\": \"Iran\",\n",
        "    \"Sparta\": \"Greece\",\n",
        "    \"United Kingdom of the Netherlands\": \"Netherlands\",\n",
        "    \"Kingdom of Jerusalem\": \"Israel\",\n",
        "    \"Silla\": \"South Korea\",\n",
        "    \"Congo Free State\": \"Democratic Republic of the Congo\",\n",
        "    \"Galicia\": \"Spain\",\n",
        "    \"Guernsey\": \"United Kingdom\",\n",
        "    \"Rashidun Caliphates\": None,\n",
        "    \"Palau\": \"Palau\",\n",
        "    \"Margraviate of Brandenburg\": \"Germany\",\n",
        "    \"Kingdom of Northumbria\": \"United Kingdom\",\n",
        "    \"Guinea-Bissau\": \"Guinea-Bissau\",\n",
        "    \"State of Brazil\": \"Brazil\",\n",
        "    \"Verona\": \"Italy\",\n",
        "    \"Upper Canada\": \"Canada\",\n",
        "    \"Duchy of Austria\": \"Austria\",\n",
        "    \"Quebec\": \"Canada\",\n",
        "    \"Bahrain\": \"Bahrain\",\n",
        "    \"Duchy of Lorraine\": \"France\",\n",
        "    \"Rhodesia\": \"Zimbabwe\",\n",
        "    \"Kingdom of Wessex\": \"United Kingdom\",\n",
        "    \"North German Confederation\": \"Germany\",\n",
        "    \"Western Jin dynasty\": \"China\",\n",
        "    \"Normandy\": \"France\",\n",
        "    \"People's Republic of Bulgaria\": \"Bulgaria\",\n",
        "    \"Bhutan\": \"Bhutan\",\n",
        "    \"Visigothic Kingdom\": \"Spain\",\n",
        "    \"Cook Islands\": \"Cook Islands\",\n",
        "    \"Italian Empire\": \"Italy\",\n",
        "    \"Eastern Wu\": \"China\",\n",
        "    \"Batavian Republic\": \"Netherlands\",\n",
        "    \"Kingdom of Hungary in the Middle Ages\": \"Hungary\",\n",
        "    \"Congress Poland\": \"Poland\",\n",
        "    \"Austrasia\": \"France\",\n",
        "    \"Kingdom of Spain\": \"Spain\",\n",
        "    \"Hungarian\": \"Hungary\",\n",
        "    \"Romanian\": \"Romania\",\n",
        "    \"Northern Qi\": \"China\",\n",
        "    \"Hesse\": \"Germany\",\n",
        "    \"Wallachia\": \"Romania\",\n",
        "    \"Duke of Holstein-Gottorp\": \"Germany\",\n",
        "    \"Anhalt-Bernburg\": \"Germany\",\n",
        "    \"Uruguaya\": \"Uruguay\",\n",
        "    \"County of Burgundy\": \"France\",\n",
        "    \"Goguryeo\": \"North Korea\",\n",
        "    \"Duchy of Schleswig\": \"Denmark\",\n",
        "    \"duchy of Saxe-Coburg and Gotha\": \"Germany\",\n",
        "    \"Lu\": \"China\",\n",
        "    \"Anjou\": \"France\",\n",
        "    \"Epirus\": \"Greece\",\n",
        "    \"Serbia and Montenegro\": \"Serbia\",\n",
        "    \"Swabia\": \"Germany\",\n",
        "    \"Eastern Jin dynasty\": \"China\",\n",
        "    \"Australasia\": \"Australia\",\n",
        "    \"Shang dynasty\": \"China\",\n",
        "    \"Kingdom of Hejaz\": \"Saudi Arabia\",\n",
        "    \"County of Württemberg\": \"Germany\",\n",
        "    \"Cutch State\": \"India\",\n",
        "    \"Bangladesh\": \"Bangladesh\",\n",
        "    \"Artsakh\": \"Azerbaijan\",\n",
        "    \"Tibet\": \"China\",\n",
        "    \"Canadian nationality law\": \"Canada\",\n",
        "    \"statelessness\": None,\n",
        "    \"Tajikistan\": \"Tajikistan\",\n",
        "    \"Socialist Republic of Romania\": \"Romania\",\n",
        "    \"Marinid dynasty\": \"Morocco\",\n",
        "    \"Principality of Transylvania\": \"Romania\",\n",
        "    \"Cheng Han\": \"China\",\n",
        "    \"County of Holland\": \"Netherlands\",\n",
        "    \"Southern Han\": \"China\",\n",
        "    \"Hanau-Münzenberg\": \"Germany\",\n",
        "    \"Shu Han\": \"China\",\n",
        "    \"Lübeck\": \"Germany\",\n",
        "    \"Ayyubid dynasty\": \"Egypt\",\n",
        "    \"Kingdom of Rheged\": \"United Kingdom\",\n",
        "    \"Rus' people\": \"Ukraine\",\n",
        "    \"Iowa\": \"United States\",\n",
        "    \"British\": \"United Kingdom\",\n",
        "    \"Second Spanish Republic\": \"Spain\",\n",
        "    \"Marshall Islands\": \"Marshall Islands\",\n",
        "    \"Bologna\": \"Italy\",\n",
        "    \"Kingdom of Bulgaria\": \"Bulgaria\",\n",
        "    \"Milan\": \"Italy\",\n",
        "    \"Liang dynasty\": \"China\",\n",
        "    \"Palestinian National Authority\": \"Palestine\",\n",
        "    \"Captaincy General of Cuba\": \"Cuba\",\n",
        "    \"Spaniards\": \"Spain\",\n",
        "    \"Venezuelans\": \"Venezuela\",\n",
        "    \"Castile\": \"Spain\",\n",
        "    \"Kingdom of Iberia\": \"Georgia\",\n",
        "    \"Min\": \"China\",\n",
        "    \"Siberian\": \"Russia\",\n",
        "    \"Newfoundland\": \"Canada\",\n",
        "    \"Livonia\": \"Latvia\",\n",
        "    \"Ottoman Syria\": \"Syria\",\n",
        "    \"Kingdom of the Lombards\": \"Italy\",\n",
        "    \"Principality of Lippe\": \"Germany\",\n",
        "    \"Margraviate of Baden-Baden\": \"Germany\",\n",
        "    \"Gupta Empire\": \"India\",\n",
        "    \"Curaçao\": \"Netherlands\",\n",
        "    \"Great Moravia\": \"Czech Republic\",\n",
        "    \"Canada–United States border\": \"United States\",\n",
        "    \"Duchy of Saxony\": \"Germany\",\n",
        "    \"Taifa of Zaragoza\": \"Spain\",\n",
        "    \"Qatar\": \"Qatar\",\n",
        "    \"Fatimid caliphate\": \"Egypt\",\n",
        "    \"Duchy of Naples\": \"Italy\",\n",
        "    \"Ag Qoyunlu Tribe\": \"Iran\",\n",
        "    \"Schwarzburg-Sondershausen\": \"Germany\",\n",
        "    \"Ghaznavid Empire\": \"Afghanistan\",\n",
        "    \"Xin dynasty\": \"China\",\n",
        "    \"Kongo people\": \"Angola\",\n",
        "    \"Hindustan\": \"India\",\n",
        "    \"French\": \"France\",\n",
        "    \"Bishopric of Trent\": \"Italy\",\n",
        "    \"Lordship of Ireland\": \"Ireland\",\n",
        "    \"Republic of Pisa\": \"Italy\",\n",
        "    \"Later Zhou dynasty\": \"China\",\n",
        "    \"Kingdom of Munster\": \"Ireland\",\n",
        "    \"Florencia\": \"Colombia\",\n",
        "    \"Abbasids\": \"Iraq\",\n",
        "    \"Kingdom of Croatia\": \"Croatia\",\n",
        "    \"Qajar Iran\": \"Iran\",\n",
        "    \"Polona\": \"Poland\",\n",
        "    \"County of Roussillon\": \"France\",\n",
        "    \"Manchukuo\": \"China\",\n",
        "    \"Gibraltar\": \"United Kingdom\",\n",
        "    \"Province of Massachusetts Bay\": \"United States\",\n",
        "    \"Landgraviate of Hesse\": \"Germany\",\n",
        "    \"Dál Riata\": \"United Kingdom\",\n",
        "    \"Roman Catholic Archdiocese of Warmia\": \"Poland\",\n",
        "    \"Kition\": \"Cyprus\",\n",
        "    \"Republic of New Granada\": \"Colombia\",\n",
        "    \"Saxe-Zeitz\": \"Germany\",\n",
        "    \"Later Zhao\": \"China\",\n",
        "    \"United States of the Ionian Islands\": \"Greece\",\n",
        "    \"Ruanda-Urundi\": \"Rwanda\",\n",
        "    \"Princes of Paliano\": \"Italy\",\n",
        "    \"Duchy of Burgundy\": \"France\",\n",
        "    \"Bactria\": \"Afghanistan\",\n",
        "    \"Septinsular Republic\": \"Greece\",\n",
        "    \"Janina Vilayet\": \"Greece\",\n",
        "    \"Sokoto Caliphate\": \"Nigeria\",\n",
        "    \"Württemberg\": \"Germany\",\n",
        "    \"Wu\": \"China\",\n",
        "    \"Hesse-Homburg\": \"Germany\",\n",
        "    \"British West Indies\": \"Bahamas\",\n",
        "    \"Duchy of Nassau\": \"Germany\",\n",
        "    \"Bergamo\": \"Italy\",\n",
        "    \"Jingnan\": \"China\",\n",
        "    \"Kingdom of Croatia-Slavonia\": \"Croatia\",\n",
        "    \"Seventeen Provinces\": \"Netherlands\",\n",
        "    \"Emirate of Diriyah\": \"Saudi Arabia\",\n",
        "    \"Ukrainians\": \"Ukraine\",\n",
        "    \"Mexicans\": \"Mexico\",\n",
        "    \"Ashanti Empire\": \"Ghana\",\n",
        "    \"Tabaristan\": \"Iran\",\n",
        "    \"British Overseas Territories\": \"United Kingdom\",\n",
        "    \"Yemen Arab Republic\": \"Yemen\",\n",
        "    \"Malta Colony\": \"Malta\",\n",
        "    \"Ho Chi Minh City\": \"Vietnam\",\n",
        "    \"Korea\": \"South Korea\",\n",
        "    \"Turkish\": \"Turkey\",\n",
        "    \"Guatemalteca\": \"Guatemala\",\n",
        "    \"Chagatai Khanate\": \"Uzbekistan\",\n",
        "    \"Duchy of Mecklenburg-Schwerin\": \"Germany\",\n",
        "    \"Domnonée\": \"France\",\n",
        "    \"Duchy of Holstein\": \"Germany\",\n",
        "    \"Lâm Ấp\": \"Vietnam\",\n",
        "    \"Helvetic Republic\": \"Switzerland\",\n",
        "    \"United States of Colombia\": \"Colombia\",\n",
        "    \"Duchy of Castro\": \"Italy\",\n",
        "    \"French Indochina\": \"Vietnam\",\n",
        "    \"Serbian\": \"Serbia\",\n",
        "    \"Inner Mongolia\": \"China\",\n",
        "    \"Margraviate of Moravia\": \"Czech Republic\",\n",
        "    \"Mongol Empire\": \"Mongolia\",\n",
        "    \"New York\": \"United States\",\n",
        "    \"Mutawakkilite Kingdom of Yemen\": \"Yemen\",\n",
        "    \"Laos\": \"Laos\",\n",
        "    \"Timurid Empire\": \"Uzbekistan\",\n",
        "    \"Giudicato of Cagliari\": \"Italy\",\n",
        "    \"Francesa\": \"France\",\n",
        "    \"West Ukrainian People's Republic\": \"Ukraine\",\n",
        "    \"Duchy of Normandy\": \"France\",\n",
        "    \"Cisleithania\": \"Austria\",\n",
        "    \"Kingdom of Pontus\": \"Turkey\",\n",
        "    \"Rome\": \"Italy\",\n",
        "    \"Zanzibar North Region\": \"Tanzania\",\n",
        "    \"island nation\": None,\n",
        "    \"Kingdom of Makuria\": \"Sudan\",\n",
        "    \"South Vietnam\": \"Vietnam\",\n",
        "    \"Cherokee Nation\": \"United States\",\n",
        "    \"Second Bulgarian Empire\": \"Bulgaria\",\n",
        "    \"German\": \"Germany\",\n",
        "    \"Empire of Brazil\": \"Brazil\",\n",
        "    \"composer\": None,\n",
        "    \"Taiwan under Japanese rule\": \"Taiwan\",\n",
        "    \"Georgian Soviet Socialist Republic\": \"Georgia\",\n",
        "    \"ducat de Bremen\": \"Germany\",\n",
        "    \"Peruana\": \"Peru\",\n",
        "    \"Armenian Kingdom of Cilicia\": \"Armenia\",\n",
        "    \"Mazatlán\": \"Mexico\",\n",
        "    \"historical country\": None,\n",
        "    \"Bruneian Empire\": \"Brunei\",\n",
        "    \"Kingdom of Holland\": \"Netherlands\",\n",
        "    \"South African Republic\": \"South Africa\",\n",
        "    \"España\": \"Spain\",\n",
        "    \"Kingdom of Greece\": \"Greece\",\n",
        "    \"Period of appanages\": \"Russia\",\n",
        "    \"United Provinces of the Río de la Plata\": \"Argentina\",\n",
        "    \"Toucouleur Empire\": \"Senegal\",\n",
        "    \"Eretnids\": \"Turkey\",\n",
        "    \"County of Sicily\": \"Italy\",\n",
        "    \"Phlius\": \"Greece\",\n",
        "    \"Principality of Beloozero\": \"Russia\",\n",
        "    \"Brandenburg\": \"Germany\",\n",
        "    \"Bijapur Sultanate\": \"India\",\n",
        "    \"The Colony known as The Bay of Massachusetts\": \"United States\",\n",
        "    \"Mewar\": \"India\",\n",
        "    \"New Guinea\": \"Papua New Guinea\",\n",
        "    \"Judah\": \"Israel\",\n",
        "    \"Ukrainian People's Republic\": \"Ukraine\",\n",
        "    \"Upper Peru\": \"Bolivia\",\n",
        "    \"Silesia\": \"Poland\",\n",
        "    \"Eastern Wei\": \"China\",\n",
        "    \"Umayyad dynasty\": \"Spain\",\n",
        "    \"Southern Tang\": \"China\",\n",
        "    \"Zhao\": \"China\",\n",
        "    \"Australasia at the Olympics\": \"Australia\",\n",
        "    \"Judea\": \"Israel\",\n",
        "    \"Kingdom of Armenia\": \"Armenia\",\n",
        "    \"North Sea Empire\": \"Denmark\",\n",
        "    \"Southern Rhodesia\": \"Zimbabwe\",\n",
        "    \"Solomon Islands\": \"Solomon Islands\",\n",
        "    \"Surinam\": \"Suriname\",\n",
        "    \"Taifa of Almería\": \"Spain\",\n",
        "    \"Holland\": \"Netherlands\",\n",
        "    \"Republic of San Marco\": \"Italy\",\n",
        "    \"Delhi Sultanate\": \"India\",\n",
        "    \"County of Apulia and Calabria\": \"Italy\",\n",
        "    \"Baghdad\": \"Iraq\",\n",
        "    \"Chileans\": \"Chile\",\n",
        "    \"Bosporan Kingdom\": \"Russia\",\n",
        "    \"Captaincy General of Puerto Rico\": \"Puerto Rico\",\n",
        "    \"Neptuno\": None,\n",
        "    \"Hol\": \"Netherlands\",\n",
        "    \"British Honduras\": \"Belize\",\n",
        "    \"Azerbaijan Soviet Socialist Republic\": \"Azerbaijan\",\n",
        "    \"Empire of China\": \"China\",\n",
        "    \"Wallis\": \"Wallis and Futuna\",\n",
        "    \"Almohad Caliphate\": \"Morocco\",\n",
        "    \"Grand Duchy of Mecklenburg-Strelitz\": \"Germany\",\n",
        "    \"Government of National Unity\": \"South Africa\",\n",
        "    \"Travancore\": \"India\",\n",
        "    \"Signoria of Milan\": \"Italy\",\n",
        "    \"Saxe-Gotha\": \"Germany\",\n",
        "    \"Indigenous peoples of America\": None,\n",
        "    \"canton of Basel\": \"Switzerland\",\n",
        "    \"Colombiana\": \"Colombia\",\n",
        "    \"Sui\": \"China\",\n",
        "    \"Togoland\": \"Togo\",\n",
        "    \"Zengid dynasty\": \"Syria\",\n",
        "    \"Thrace\": \"Turkey\",\n",
        "    \"Shahrisabz\": \"Uzbekistan\",\n",
        "    \"Argentino\": \"Argentina\",\n",
        "    \"Thirteen Colonies\": \"United States\",\n",
        "    \"Kenya Colony\": \"Kenya\",\n",
        "    \"Polish–Lithuanian union\": \"Poland\",\n",
        "    \"Korea under Japanese rule\": \"South Korea\",\n",
        "    \"Hawaii\": \"United States\",\n",
        "    \"County of Aragon\": \"Spain\",\n",
        "    \"Rouen\": \"France\",\n",
        "    \"Belarusian People's Republic\": \"Belarus\",\n",
        "    \"Austro-Hungarian rule in Bosnia and Herzegovina\": \"Bosnia and Herzegovina\",\n",
        "    \"Merthyr Tydfil County Borough\": \"United Kingdom\",\n",
        "    \"Free City of Frankfurt\": \"Germany\",\n",
        "    \"Peruano\": \"Peru\",\n",
        "    \"Principality of Abkhazia\": \"Georgia\",\n",
        "    \"nationality\": None,\n",
        "    \"Britannia\": \"United Kingdom\",\n",
        "    \"Kurdistan\": None,\n",
        "    \"French protectorate of Tunisia\": \"Tunisia\",\n",
        "    \"Landgraviate of Hesse-Kassel\": \"Germany\",\n",
        "    \"Portuguese India\": \"India\",\n",
        "    \"Canadian English\": \"Canada\",\n",
        "    \"Schleswig-Holstein\": \"Germany\",\n",
        "    \"Landgraviate of Hesse-Darmstadt\": \"Germany\",\n",
        "    \"Commonwealth of the Philippines\": \"Philippines\",\n",
        "    \"Emirate of Sicily\": \"Italy\",\n",
        "    \"Rascia\": \"Serbia\",\n",
        "    \"Golden Horde\": \"Russia\",\n",
        "    \"South Tyrol\": \"Italy\",\n",
        "    \"Kingdom of Candia\": \"Greece\",\n",
        "    \"Danish West Indies\": \"United States\",\n",
        "    \"Allemang\": \"Germany\",\n",
        "    \"Sub-Roman Britain\": \"United Kingdom\",\n",
        "    \"Spanish\": \"Spain\",\n",
        "    \"German\": \"Germany\",\n",
        "    \"Canadian\": \"Canada\",\n",
        "    \"Russian\": \"Russia\",\n",
        "    \"Norwegian\": \"Norway\",\n",
        "    \"Dutch\": \"Netherlands\",\n",
        "    \"Dominican\": \"Dominican Republic\",\n",
        "    \"Swiss\": \"Switzerland\",\n",
        "    \"American\": \"United States\",\n",
        "    \"Finnish\": \"Finland\",\n",
        "    \"French\": \"France\",\n",
        "    \"British\": \"United Kingdom\",\n",
        "    \"Belgian\": \"Belgium\",\n",
        "    \"President of Argentina\": \"Argentina\",\n",
        "    \"New Zealand\": \"New Zealand\",\n",
        "    \"Basque\": \"Spain\",\n",
        "    \"English\": \"United Kingdom\",\n",
        "    \"Polish\": \"Poland\",\n",
        "    \"Italian\": \"Italy\",\n",
        "    \"Swedish\": \"Sweden\",\n",
        "    \"Japanese\": \"Japan\",\n",
        "    \"Ukrainian\": \"Ukraine\",\n",
        "    \"Scottish\": \"United Kingdom\",\n",
        "    \"Australian\": \"Australia\",\n",
        "    \"Soviet\": \"Russia\",\n",
        "    \"Czech\": \"Czech Republic\",\n",
        "    \"Irish\": \"Ireland\",\n",
        "    \"Turkish\": \"Turkey\",\n",
        "    \"Brazilian\": \"Brazil\",\n",
        "    \"Austrian\": \"Austria\",\n",
        "    \"Hungarian\": \"Hungary\",\n",
        "    \"Indian\": \"India\",\n",
        "    \"Urdu\": \"Pakistan\",\n",
        "    \"African-American\": \"United States\",\n",
        "    \"Puerto Rican\": \"United States\",\n",
        "    \"Northern Irish\": \"United Kingdom\",\n",
        "    \"Hawaiian\": \"United States\",\n",
        "    \"South African\": \"South Africa\",\n",
        "    \"Slovene\": \"Slovenia\",\n",
        "    \"Costa Rican\": \"Costa Rica\",\n",
        "    \"Estonian\": \"Estonia\",\n",
        "    \"Lithuanian\": \"Lithuania\",\n",
        "    \"Mexican\": \"Mexico\",\n",
        "    \"South Korean\": \"South Korea\",\n",
        "    \"Paraguayan\": \"Paraguay\",\n",
        "    \"Sri Lankan\": \"Sri Lanka\",\n",
        "    \"Argentinian\": \"Argentina\",\n",
        "    \"Cameroonian\": \"Cameroon\",\n",
        "    \"Armenian\": \"Armenia\",\n",
        "    \"Ghanaian\": \"Ghana\",\n",
        "    \"Romanian\": \"Romania\",\n",
        "    \"Iraqi-Canadian\": \"Canada\",\n",
        "    \"Saudi Arabian\": \"Saudi Arabia\",\n",
        "    \"Mauritian\": \"Mauritius\",\n",
        "    \"Ceylon Tamil\": \"Sri Lanka\",\n",
        "    \"Tanzanian\": \"Tanzania\",\n",
        "    \"Serbian\": \"Serbia\",\n",
        "    \"Colombian\": \"Colombia\",\n",
        "    \"Filipino\": \"Philippines\",\n",
        "    \"Croatian\": \"Croatia\",\n",
        "    \"Portuguese\": \"Portugal\",\n",
        "    \"Chilean\": \"Chile\",\n",
        "    \"Latvian\": \"Latvia\",\n",
        "}\n"
      ],
      "metadata": {
        "id": "qvIbl6DOxdQ1"
      },
      "execution_count": null,
      "outputs": []
    },
    {
      "cell_type": "code",
      "source": [
        "df_2['Country_cleaned'] = df_2['Country'].map(country_mapping).fillna(df_2['Country'])\n"
      ],
      "metadata": {
        "id": "loUUSt81uWHb"
      },
      "execution_count": null,
      "outputs": []
    },
    {
      "cell_type": "code",
      "source": [
        "df_2"
      ],
      "metadata": {
        "collapsed": true,
        "id": "7rwwmHvMuZp5"
      },
      "execution_count": null,
      "outputs": []
    },
    {
      "cell_type": "markdown",
      "source": [
        "matching two datasets"
      ],
      "metadata": {
        "id": "uYqMSo6B0GUB"
      }
    },
    {
      "cell_type": "code",
      "source": [
        "df_matched=df_1.merge(df_2,left_on='Name',right_on='Name',how='inner')"
      ],
      "metadata": {
        "id": "ZMQejsFqupuo"
      },
      "execution_count": null,
      "outputs": []
    },
    {
      "cell_type": "code",
      "source": [
        "df_matched.drop(columns=['Country', 'Manner of death'],inplace=True)\n"
      ],
      "metadata": {
        "id": "zBt4GtLzwhLn"
      },
      "execution_count": null,
      "outputs": []
    },
    {
      "cell_type": "code",
      "source": [
        "#rename cleaned coulmn\n",
        "df_matched.rename(columns={'Country_cleaned':'Country'},inplace=True)"
      ],
      "metadata": {
        "id": "YDgbewD22d1W"
      },
      "execution_count": null,
      "outputs": []
    },
    {
      "cell_type": "code",
      "source": [
        "df_matched.head(15)"
      ],
      "metadata": {
        "collapsed": true,
        "id": "XSVZnjT-tF29"
      },
      "execution_count": null,
      "outputs": []
    },
    {
      "cell_type": "code",
      "source": [
        "df_matched[['Gender_x','Gender_y']].isna().sum()"
      ],
      "metadata": {
        "id": "O4kXPuXh2-J6"
      },
      "execution_count": null,
      "outputs": []
    },
    {
      "cell_type": "code",
      "source": [
        "#filling massing value in Gender\n",
        "df_matched['Gender_y'].fillna('Unknown', inplace=True)\n"
      ],
      "metadata": {
        "collapsed": true,
        "id": "b6xB8oUv8r5t"
      },
      "execution_count": null,
      "outputs": []
    },
    {
      "cell_type": "code",
      "source": [
        "#change format of values\n",
        "df_matched['Gender_y'].replace({1: 'Male', 2: 'Female'}, inplace=True)\n"
      ],
      "metadata": {
        "id": "6Iu1jvNv9Ncy"
      },
      "execution_count": null,
      "outputs": []
    },
    {
      "cell_type": "markdown",
      "source": [
        "#Check Data consistancy"
      ],
      "metadata": {
        "id": "gdqNMllWvcJr"
      }
    },
    {
      "cell_type": "code",
      "source": [
        "check_age =df_matched['Death year'] - df_matched['Birth year']\n"
      ],
      "metadata": {
        "id": "kyBK_q6Xn76E",
        "collapsed": true
      },
      "execution_count": null,
      "outputs": []
    },
    {
      "cell_type": "code",
      "source": [
        "# The 'Age of Death' column is not consistent.\n",
        "(df_matched['Age of death']== check_age).all()"
      ],
      "metadata": {
        "id": "A9ziuAyqpL0Q"
      },
      "execution_count": null,
      "outputs": []
    },
    {
      "cell_type": "code",
      "source": [
        "(df_matched['Age of death']!= check_age).sum()"
      ],
      "metadata": {
        "id": "5ws-go8X_Lbg"
      },
      "execution_count": null,
      "outputs": []
    },
    {
      "cell_type": "code",
      "source": [
        "df_matched['Age'] =df_matched['Death year'] - df_matched['Birth year']\n"
      ],
      "metadata": {
        "id": "KdKuTlok_peZ"
      },
      "execution_count": null,
      "outputs": []
    },
    {
      "cell_type": "code",
      "source": [
        "df_matched"
      ],
      "metadata": {
        "id": "uv6IF3Se_82f"
      },
      "execution_count": null,
      "outputs": []
    },
    {
      "cell_type": "code",
      "source": [
        "\n",
        "df_matched.drop(columns=['Age of death', 'Gender_x'],inplace=True)\n"
      ],
      "metadata": {
        "id": "QUz7b-MOFeV2"
      },
      "execution_count": null,
      "outputs": []
    },
    {
      "cell_type": "markdown",
      "source": [],
      "metadata": {
        "id": "gwIP5TVszWBP"
      }
    },
    {
      "cell_type": "markdown",
      "source": [
        "Extracting Country Name From Description"
      ],
      "metadata": {
        "id": "xXovE_amwYn6"
      }
    },
    {
      "cell_type": "code",
      "source": [
        "noncountry = df_matched[df_matched['Country'].isna()][['Short description', 'Country']].copy()\n",
        "noncountry"
      ],
      "metadata": {
        "id": "5KT5QFSy6_w6"
      },
      "execution_count": null,
      "outputs": []
    },
    {
      "cell_type": "code",
      "source": [
        "indices = df_matched[df_matched['Country'].isna()].index"
      ],
      "metadata": {
        "id": "9LksNdhjG_VU"
      },
      "execution_count": null,
      "outputs": []
    },
    {
      "cell_type": "code",
      "source": [
        "noncountry.rename(columns={'Short description': 'description'},inplace=True)\n",
        "noncountry"
      ],
      "metadata": {
        "id": "IA4cuaBFQapY"
      },
      "execution_count": null,
      "outputs": []
    },
    {
      "cell_type": "code",
      "source": [
        "#declere function to extract citizenship from description\n",
        "def extract_country(description, country_mapping):\n",
        "    if pd.isna(description) or not isinstance(description, str):\n",
        "        return None\n",
        "\n",
        "    words = description.lower().split()\n",
        "\n",
        "    for word in words:\n",
        "        word = word.strip(\"(),.-\")\n",
        "        word_cap = word.capitalize()\n",
        "        if word_cap in country_mapping:\n",
        "            return country_mapping[word_cap]\n",
        "        if word.startswith(\"schwedisch\"):\n",
        "            return country_mapping.get(\"Swedish\", None)\n",
        "        if word.endswith(\"danés\"):\n",
        "            return country_mapping.get(\"Danish\", None)\n",
        "        if word.startswith(\"russisch\"):\n",
        "            return country_mapping.get(\"Russian\", None)\n",
        "        if word.startswith(\"frans\"):\n",
        "            return country_mapping.get(\"French\", None)\n",
        "        if word.startswith(\"deutsch\"):\n",
        "            return country_mapping.get(\"German\", None)\n",
        "        if word.endswith(\"español\"):\n",
        "            return country_mapping.get(\"Spanish\", None)\n",
        "        if word.endswith(\"italiano\"):\n",
        "            return country_mapping.get(\"Italian\", None)\n",
        "        if word.endswith(\"polacu\"):\n",
        "            return country_mapping.get(\"Polish\", None)\n",
        "    return None"
      ],
      "metadata": {
        "id": "K8XQtp49FpCD"
      },
      "execution_count": null,
      "outputs": []
    },
    {
      "cell_type": "code",
      "source": [
        "#apply extract function\n",
        "noncountry['Country'] = noncountry['description'].apply(lambda desc: extract_country(desc, country_mapping))"
      ],
      "metadata": {
        "id": "3ahoTYAUxIYt"
      },
      "execution_count": null,
      "outputs": []
    },
    {
      "cell_type": "code",
      "source": [
        "#retrive the data after processing to orignal df\n",
        "df_matched.loc[indices, 'Country'] = noncountry['Country']"
      ],
      "metadata": {
        "id": "N2afV2tnsVNz"
      },
      "execution_count": null,
      "outputs": []
    },
    {
      "cell_type": "code",
      "source": [
        "df_matched.head(25)"
      ],
      "metadata": {
        "collapsed": true,
        "id": "DFzGUPdlMhEb"
      },
      "execution_count": null,
      "outputs": []
    },
    {
      "cell_type": "code",
      "source": [
        "df_matched['Occupation'].isna().sum()"
      ],
      "metadata": {
        "id": "b2prVxFpXQvE"
      },
      "execution_count": null,
      "outputs": []
    },
    {
      "cell_type": "code",
      "source": [
        "df_matched['Occupation'].fillna('Unknown', inplace=True)\n"
      ],
      "metadata": {
        "id": "f7vOTZ5EN0oo"
      },
      "execution_count": null,
      "outputs": []
    },
    {
      "cell_type": "code",
      "source": [
        "df_matched['Occupation'].isna().sum()"
      ],
      "metadata": {
        "id": "GhLEZpyaeiwf"
      },
      "execution_count": null,
      "outputs": []
    },
    {
      "cell_type": "markdown",
      "source": [],
      "metadata": {
        "id": "Bh7WNBk9y1z4"
      }
    },
    {
      "cell_type": "code",
      "source": [
        "#sort by country to drop the nan country value\n",
        "df_matched = df_matched.sort_values(by='Country', na_position='last')\n",
        "df_matched"
      ],
      "metadata": {
        "id": "Imcc6v1LQ48D"
      },
      "execution_count": null,
      "outputs": []
    },
    {
      "cell_type": "code",
      "source": [
        "#drop duplicates based on Name\n",
        "df_matched=df_matched.drop_duplicates(subset=['Name'], keep='first')"
      ],
      "metadata": {
        "id": "LqDet7gcX6ZL"
      },
      "execution_count": null,
      "outputs": []
    },
    {
      "cell_type": "code",
      "source": [
        "df_matched = df_matched.sort_index()"
      ],
      "metadata": {
        "id": "hvU9RN4cYgJH"
      },
      "execution_count": null,
      "outputs": []
    },
    {
      "cell_type": "code",
      "source": [
        "#reset index\n",
        "df_matched = df_matched.reset_index(drop=True)"
      ],
      "metadata": {
        "id": "HK8BfxMLaQdu"
      },
      "execution_count": null,
      "outputs": []
    },
    {
      "cell_type": "code",
      "source": [
        "df_matched.head(10)"
      ],
      "metadata": {
        "id": "F8SI_2scYhHu"
      },
      "execution_count": null,
      "outputs": []
    },
    {
      "cell_type": "code",
      "source": [
        "df_matched['Short description'].fillna('Unknown', inplace=True)\n",
        "df_matched['Country'].fillna('Unknown', inplace=True)\n"
      ],
      "metadata": {
        "id": "FiCyv9FZbKRP"
      },
      "execution_count": null,
      "outputs": []
    },
    {
      "cell_type": "code",
      "source": [
        "#final check for NaN values in dataset\n",
        "df_matched.isna().sum()"
      ],
      "metadata": {
        "id": "eu-xmETHamyU"
      },
      "execution_count": null,
      "outputs": []
    },
    {
      "cell_type": "code",
      "source": [
        "df_matched.drop(columns=['Short description','Death year','Birth year'],inplace=True)"
      ],
      "metadata": {
        "id": "bORnQs8R0zNZ"
      },
      "execution_count": null,
      "outputs": []
    },
    {
      "cell_type": "markdown",
      "source": [
        "#saving dataset as csv"
      ],
      "metadata": {
        "id": "-U6beZK3zwNt"
      }
    },
    {
      "cell_type": "code",
      "source": [
        "df_matched.to_csv('cleaned_data.csv', index=True)"
      ],
      "metadata": {
        "id": "RX5KQrWtbTcx"
      },
      "execution_count": null,
      "outputs": []
    }
  ]
}